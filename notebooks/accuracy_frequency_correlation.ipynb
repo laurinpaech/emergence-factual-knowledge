{
 "cells": [
  {
   "cell_type": "code",
   "execution_count": 1,
   "id": "55b136cf",
   "metadata": {},
   "outputs": [],
   "source": [
    "import numpy as np\n",
    "import scipy.stats\n",
    "import pandas as pd\n",
    "import plotly\n",
    "import plotly.express as px"
   ]
  },
  {
   "cell_type": "code",
   "execution_count": 2,
   "id": "03fa1000",
   "metadata": {},
   "outputs": [
    {
     "data": {
      "text/html": [
       "<div>\n",
       "<style scoped>\n",
       "    .dataframe tbody tr th:only-of-type {\n",
       "        vertical-align: middle;\n",
       "    }\n",
       "\n",
       "    .dataframe tbody tr th {\n",
       "        vertical-align: top;\n",
       "    }\n",
       "\n",
       "    .dataframe thead th {\n",
       "        text-align: right;\n",
       "    }\n",
       "</style>\n",
       "<table border=\"1\" class=\"dataframe\">\n",
       "  <thead>\n",
       "    <tr style=\"text-align: right;\">\n",
       "      <th></th>\n",
       "      <th>Relation</th>\n",
       "      <th>Counts</th>\n",
       "      <th>Accuracy</th>\n",
       "      <th>Source Language</th>\n",
       "      <th>Target Language</th>\n",
       "      <th>Run-Name</th>\n",
       "    </tr>\n",
       "  </thead>\n",
       "  <tbody>\n",
       "    <tr>\n",
       "      <th>0</th>\n",
       "      <td>fracturing</td>\n",
       "      <td>11</td>\n",
       "      <td>0.1155</td>\n",
       "      <td>en</td>\n",
       "      <td>de</td>\n",
       "      <td>KT_en_de-fr-es</td>\n",
       "    </tr>\n",
       "    <tr>\n",
       "      <th>1</th>\n",
       "      <td>is verso of</td>\n",
       "      <td>161</td>\n",
       "      <td>0.9988</td>\n",
       "      <td>en</td>\n",
       "      <td>de</td>\n",
       "      <td>KT_en_de-fr-es</td>\n",
       "    </tr>\n",
       "    <tr>\n",
       "      <th>2</th>\n",
       "      <td>scenographer</td>\n",
       "      <td>19703</td>\n",
       "      <td>0.6800</td>\n",
       "      <td>en</td>\n",
       "      <td>de</td>\n",
       "      <td>KT_en_de-fr-es</td>\n",
       "    </tr>\n",
       "    <tr>\n",
       "      <th>3</th>\n",
       "      <td>chord progression</td>\n",
       "      <td>25</td>\n",
       "      <td>0.2488</td>\n",
       "      <td>en</td>\n",
       "      <td>de</td>\n",
       "      <td>KT_en_de-fr-es</td>\n",
       "    </tr>\n",
       "    <tr>\n",
       "      <th>4</th>\n",
       "      <td>medical evacuation to</td>\n",
       "      <td>33</td>\n",
       "      <td>0.9966</td>\n",
       "      <td>en</td>\n",
       "      <td>de</td>\n",
       "      <td>KT_en_de-fr-es</td>\n",
       "    </tr>\n",
       "    <tr>\n",
       "      <th>...</th>\n",
       "      <td>...</td>\n",
       "      <td>...</td>\n",
       "      <td>...</td>\n",
       "      <td>...</td>\n",
       "      <td>...</td>\n",
       "      <td>...</td>\n",
       "    </tr>\n",
       "    <tr>\n",
       "      <th>205</th>\n",
       "      <td>has grammatical mood</td>\n",
       "      <td>109</td>\n",
       "      <td>0.0733</td>\n",
       "      <td>zh</td>\n",
       "      <td>ja</td>\n",
       "      <td>KT_zh_ja</td>\n",
       "    </tr>\n",
       "    <tr>\n",
       "      <th>206</th>\n",
       "      <td>review score by</td>\n",
       "      <td>14</td>\n",
       "      <td>0.0722</td>\n",
       "      <td>zh</td>\n",
       "      <td>ja</td>\n",
       "      <td>KT_zh_ja</td>\n",
       "    </tr>\n",
       "    <tr>\n",
       "      <th>207</th>\n",
       "      <td>emulates</td>\n",
       "      <td>345</td>\n",
       "      <td>0.0220</td>\n",
       "      <td>zh</td>\n",
       "      <td>ja</td>\n",
       "      <td>KT_zh_ja</td>\n",
       "    </tr>\n",
       "    <tr>\n",
       "      <th>208</th>\n",
       "      <td>instrument</td>\n",
       "      <td>210870</td>\n",
       "      <td>1.0000</td>\n",
       "      <td>zh</td>\n",
       "      <td>ja</td>\n",
       "      <td>KT_zh_ja</td>\n",
       "    </tr>\n",
       "    <tr>\n",
       "      <th>209</th>\n",
       "      <td>educational stage</td>\n",
       "      <td>81</td>\n",
       "      <td>1.0000</td>\n",
       "      <td>zh</td>\n",
       "      <td>ja</td>\n",
       "      <td>KT_zh_ja</td>\n",
       "    </tr>\n",
       "  </tbody>\n",
       "</table>\n",
       "<p>210 rows × 6 columns</p>\n",
       "</div>"
      ],
      "text/plain": [
       "                  Relation  Counts  Accuracy Source Language Target Language  \\\n",
       "0               fracturing      11    0.1155              en              de   \n",
       "1              is verso of     161    0.9988              en              de   \n",
       "2             scenographer   19703    0.6800              en              de   \n",
       "3        chord progression      25    0.2488              en              de   \n",
       "4    medical evacuation to      33    0.9966              en              de   \n",
       "..                     ...     ...       ...             ...             ...   \n",
       "205   has grammatical mood     109    0.0733              zh              ja   \n",
       "206        review score by      14    0.0722              zh              ja   \n",
       "207               emulates     345    0.0220              zh              ja   \n",
       "208             instrument  210870    1.0000              zh              ja   \n",
       "209      educational stage      81    1.0000              zh              ja   \n",
       "\n",
       "           Run-Name  \n",
       "0    KT_en_de-fr-es  \n",
       "1    KT_en_de-fr-es  \n",
       "2    KT_en_de-fr-es  \n",
       "3    KT_en_de-fr-es  \n",
       "4    KT_en_de-fr-es  \n",
       "..              ...  \n",
       "205        KT_zh_ja  \n",
       "206        KT_zh_ja  \n",
       "207        KT_zh_ja  \n",
       "208        KT_zh_ja  \n",
       "209        KT_zh_ja  \n",
       "\n",
       "[210 rows x 6 columns]"
      ]
     },
     "execution_count": 2,
     "metadata": {},
     "output_type": "execute_result"
    }
   ],
   "source": [
    "df = pd.read_csv('kt_accuracy_wikicounts_relations.csv')\n",
    "df"
   ]
  },
  {
   "cell_type": "code",
   "execution_count": 46,
   "id": "34414cd8",
   "metadata": {},
   "outputs": [],
   "source": [
    "counts = df['Counts'].values\n",
    "accuracy = df['Accuracy'].values\n",
    "\n",
    "# Only English\n",
    "# counts = df[df['Source Language'] == 'en']['Counts'].values\n",
    "# accuracy = df[df['Source Language'] == 'en']['Accuracy'].values"
   ]
  },
  {
   "cell_type": "code",
   "execution_count": 49,
   "id": "1381b1e1",
   "metadata": {},
   "outputs": [
    {
     "data": {
      "application/vnd.plotly.v1+json": {
       "config": {
        "plotlyServerURL": "https://plot.ly"
       },
       "data": [
        {
         "hovertemplate": "Wikipedia Frequency=%{x}<br>mean P@1=%{y}<extra></extra>",
         "legendgroup": "",
         "marker": {
          "color": "#636efa",
          "symbol": "circle"
         },
         "mode": "markers",
         "name": "",
         "orientation": "v",
         "showlegend": false,
         "type": "scatter",
         "x": [
          11,
          161,
          19703,
          25,
          33,
          7,
          1224,
          383,
          5578,
          2921,
          11,
          161,
          19703,
          25,
          33,
          7,
          1224,
          383,
          5578,
          2921,
          11,
          161,
          19703,
          25,
          33,
          7,
          1224,
          383,
          5578,
          2921,
          11,
          161,
          19703,
          25,
          33,
          7,
          1224,
          383,
          5578,
          2921,
          11,
          161,
          19703,
          25,
          33,
          7,
          1224,
          383,
          5578,
          2921,
          11,
          161,
          19703,
          25,
          33,
          7,
          1224,
          383,
          5578,
          2921,
          11,
          161,
          19703,
          25,
          33,
          7,
          1224,
          383,
          5578,
          2921,
          11,
          161,
          19703,
          25,
          33,
          7,
          1224,
          383,
          5578,
          2921,
          11,
          161,
          19703,
          25,
          33,
          7,
          1224,
          383,
          5578,
          2921,
          11,
          161,
          19703,
          25,
          33,
          7,
          1224,
          383,
          5578,
          2921,
          11,
          161,
          19703,
          25,
          33,
          7,
          1224,
          383,
          5578,
          2921,
          11,
          161,
          19703,
          25,
          33,
          7,
          1224,
          383,
          5578,
          2921,
          458,
          160,
          4257,
          846,
          241962,
          500,
          353857,
          2248,
          3,
          75317,
          42849,
          2218,
          6992,
          3923,
          696,
          39,
          83038,
          726,
          512,
          878,
          2905,
          853,
          1472,
          3135,
          21,
          7870,
          287778,
          201826,
          1818,
          338731,
          576,
          32262,
          151194,
          143,
          18986,
          5765,
          58648,
          274,
          2359,
          502,
          3,
          15928,
          198,
          1507,
          3765,
          271222,
          183,
          248,
          6,
          45764,
          576,
          32262,
          151194,
          143,
          18986,
          5765,
          58648,
          274,
          2359,
          502,
          3,
          15928,
          198,
          1507,
          3765,
          271222,
          183,
          248,
          6,
          45764,
          291,
          119,
          6539,
          8868,
          1860,
          109,
          14,
          345,
          210870,
          81,
          291,
          119,
          6539,
          8868,
          1860,
          109,
          14,
          345,
          210870,
          81
         ],
         "xaxis": "x",
         "y": [
          0.1155,
          0.9988,
          0.68,
          0.2488,
          0.9966,
          0.9233,
          0.2444,
          0.9966,
          0.9488,
          0.0011,
          0.746,
          0.998,
          0.997,
          0.774,
          0.479,
          0.174,
          0.999,
          1,
          0.983,
          0.002,
          0.995,
          1,
          0.901,
          0.053,
          0.999,
          0.082,
          0.999,
          0.71,
          0.433,
          0,
          0.46,
          0.5355,
          0.1566,
          0.0222,
          0.97,
          0.0033,
          0.2266,
          0.9022,
          0.0488,
          0.1244,
          0.463,
          0.013,
          0.33,
          0.081,
          0.028,
          0.116,
          0.43,
          0.414,
          0.502,
          0.364,
          0.46,
          0.18,
          0.147,
          0.509,
          0.861,
          0.063,
          0.277,
          0.177,
          0.023,
          0.054,
          0.8455,
          0.9388,
          0.4155,
          0.8,
          0.9966,
          0.1422,
          0.0344,
          0.6644,
          0.15,
          0.0222,
          1,
          0.999,
          0.943,
          0.054,
          0.999,
          0.001,
          0.957,
          0.917,
          0.904,
          0.264,
          0.904,
          0.958,
          0.975,
          0.014,
          0.175,
          0.005,
          0.99,
          0.858,
          0.016,
          0.042,
          0.8077,
          0.1755,
          0.0522,
          0.1277,
          0.5411,
          0.8277,
          0.1111,
          0.3744,
          0.7455,
          0.0988,
          0.6522,
          0.9988,
          0.99,
          0.6166,
          0.1288,
          0.0466,
          0.9944,
          1,
          0.5688,
          0.1355,
          0.6555,
          1,
          0.1588,
          0.1355,
          0.0644,
          0.0144,
          1,
          0.5811,
          0.0111,
          0.0177,
          0.4088,
          0.0022,
          0.1666,
          0.05,
          0.2677,
          0.32,
          0.0133,
          0.9755,
          0.2322,
          0.6277,
          0.0055,
          0.0355,
          0.0166,
          0.01,
          0.3288,
          0.2255,
          0.0111,
          0.2033,
          0.3033,
          0.1144,
          0.1222,
          0.1255,
          0.3966,
          0.0733,
          0.0388,
          0.1666,
          0.3877,
          0.37,
          0.4166,
          0.56,
          0.0322,
          0.0077,
          0.0611,
          0.89,
          0.9566,
          0.6866,
          0.0433,
          0.0177,
          0.1088,
          0.8488,
          0.0488,
          0.0055,
          0.07,
          0.0022,
          0.5377,
          0.0022,
          0.9922,
          0.7288,
          0.4222,
          0,
          0.05,
          0.1355,
          0.0522,
          0.0911,
          0.6466,
          0.0122,
          0.0211,
          0.0611,
          0.0344,
          0.4266,
          0.3766,
          0.0311,
          0.2311,
          0.0077,
          0.5455,
          0.0166,
          0.4955,
          0.3522,
          0.0066,
          0.1566,
          1,
          0.9488,
          0.6955,
          0.9988,
          1,
          0.33,
          0.06,
          0.0033,
          0.9988,
          1,
          0.988,
          0.4911,
          0.12,
          1,
          1,
          0.0733,
          0.0722,
          0.022,
          1,
          1
         ],
         "yaxis": "y"
        }
       ],
       "layout": {
        "font": {
         "size": 14
        },
        "legend": {
         "tracegroupgap": 0
        },
        "margin": {
         "t": 60
        },
        "template": {
         "data": {
          "bar": [
           {
            "error_x": {
             "color": "#2a3f5f"
            },
            "error_y": {
             "color": "#2a3f5f"
            },
            "marker": {
             "line": {
              "color": "#E5ECF6",
              "width": 0.5
             },
             "pattern": {
              "fillmode": "overlay",
              "size": 10,
              "solidity": 0.2
             }
            },
            "type": "bar"
           }
          ],
          "barpolar": [
           {
            "marker": {
             "line": {
              "color": "#E5ECF6",
              "width": 0.5
             },
             "pattern": {
              "fillmode": "overlay",
              "size": 10,
              "solidity": 0.2
             }
            },
            "type": "barpolar"
           }
          ],
          "carpet": [
           {
            "aaxis": {
             "endlinecolor": "#2a3f5f",
             "gridcolor": "white",
             "linecolor": "white",
             "minorgridcolor": "white",
             "startlinecolor": "#2a3f5f"
            },
            "baxis": {
             "endlinecolor": "#2a3f5f",
             "gridcolor": "white",
             "linecolor": "white",
             "minorgridcolor": "white",
             "startlinecolor": "#2a3f5f"
            },
            "type": "carpet"
           }
          ],
          "choropleth": [
           {
            "colorbar": {
             "outlinewidth": 0,
             "ticks": ""
            },
            "type": "choropleth"
           }
          ],
          "contour": [
           {
            "colorbar": {
             "outlinewidth": 0,
             "ticks": ""
            },
            "colorscale": [
             [
              0,
              "#0d0887"
             ],
             [
              0.1111111111111111,
              "#46039f"
             ],
             [
              0.2222222222222222,
              "#7201a8"
             ],
             [
              0.3333333333333333,
              "#9c179e"
             ],
             [
              0.4444444444444444,
              "#bd3786"
             ],
             [
              0.5555555555555556,
              "#d8576b"
             ],
             [
              0.6666666666666666,
              "#ed7953"
             ],
             [
              0.7777777777777778,
              "#fb9f3a"
             ],
             [
              0.8888888888888888,
              "#fdca26"
             ],
             [
              1,
              "#f0f921"
             ]
            ],
            "type": "contour"
           }
          ],
          "contourcarpet": [
           {
            "colorbar": {
             "outlinewidth": 0,
             "ticks": ""
            },
            "type": "contourcarpet"
           }
          ],
          "heatmap": [
           {
            "colorbar": {
             "outlinewidth": 0,
             "ticks": ""
            },
            "colorscale": [
             [
              0,
              "#0d0887"
             ],
             [
              0.1111111111111111,
              "#46039f"
             ],
             [
              0.2222222222222222,
              "#7201a8"
             ],
             [
              0.3333333333333333,
              "#9c179e"
             ],
             [
              0.4444444444444444,
              "#bd3786"
             ],
             [
              0.5555555555555556,
              "#d8576b"
             ],
             [
              0.6666666666666666,
              "#ed7953"
             ],
             [
              0.7777777777777778,
              "#fb9f3a"
             ],
             [
              0.8888888888888888,
              "#fdca26"
             ],
             [
              1,
              "#f0f921"
             ]
            ],
            "type": "heatmap"
           }
          ],
          "heatmapgl": [
           {
            "colorbar": {
             "outlinewidth": 0,
             "ticks": ""
            },
            "colorscale": [
             [
              0,
              "#0d0887"
             ],
             [
              0.1111111111111111,
              "#46039f"
             ],
             [
              0.2222222222222222,
              "#7201a8"
             ],
             [
              0.3333333333333333,
              "#9c179e"
             ],
             [
              0.4444444444444444,
              "#bd3786"
             ],
             [
              0.5555555555555556,
              "#d8576b"
             ],
             [
              0.6666666666666666,
              "#ed7953"
             ],
             [
              0.7777777777777778,
              "#fb9f3a"
             ],
             [
              0.8888888888888888,
              "#fdca26"
             ],
             [
              1,
              "#f0f921"
             ]
            ],
            "type": "heatmapgl"
           }
          ],
          "histogram": [
           {
            "marker": {
             "pattern": {
              "fillmode": "overlay",
              "size": 10,
              "solidity": 0.2
             }
            },
            "type": "histogram"
           }
          ],
          "histogram2d": [
           {
            "colorbar": {
             "outlinewidth": 0,
             "ticks": ""
            },
            "colorscale": [
             [
              0,
              "#0d0887"
             ],
             [
              0.1111111111111111,
              "#46039f"
             ],
             [
              0.2222222222222222,
              "#7201a8"
             ],
             [
              0.3333333333333333,
              "#9c179e"
             ],
             [
              0.4444444444444444,
              "#bd3786"
             ],
             [
              0.5555555555555556,
              "#d8576b"
             ],
             [
              0.6666666666666666,
              "#ed7953"
             ],
             [
              0.7777777777777778,
              "#fb9f3a"
             ],
             [
              0.8888888888888888,
              "#fdca26"
             ],
             [
              1,
              "#f0f921"
             ]
            ],
            "type": "histogram2d"
           }
          ],
          "histogram2dcontour": [
           {
            "colorbar": {
             "outlinewidth": 0,
             "ticks": ""
            },
            "colorscale": [
             [
              0,
              "#0d0887"
             ],
             [
              0.1111111111111111,
              "#46039f"
             ],
             [
              0.2222222222222222,
              "#7201a8"
             ],
             [
              0.3333333333333333,
              "#9c179e"
             ],
             [
              0.4444444444444444,
              "#bd3786"
             ],
             [
              0.5555555555555556,
              "#d8576b"
             ],
             [
              0.6666666666666666,
              "#ed7953"
             ],
             [
              0.7777777777777778,
              "#fb9f3a"
             ],
             [
              0.8888888888888888,
              "#fdca26"
             ],
             [
              1,
              "#f0f921"
             ]
            ],
            "type": "histogram2dcontour"
           }
          ],
          "mesh3d": [
           {
            "colorbar": {
             "outlinewidth": 0,
             "ticks": ""
            },
            "type": "mesh3d"
           }
          ],
          "parcoords": [
           {
            "line": {
             "colorbar": {
              "outlinewidth": 0,
              "ticks": ""
             }
            },
            "type": "parcoords"
           }
          ],
          "pie": [
           {
            "automargin": true,
            "type": "pie"
           }
          ],
          "scatter": [
           {
            "fillpattern": {
             "fillmode": "overlay",
             "size": 10,
             "solidity": 0.2
            },
            "type": "scatter"
           }
          ],
          "scatter3d": [
           {
            "line": {
             "colorbar": {
              "outlinewidth": 0,
              "ticks": ""
             }
            },
            "marker": {
             "colorbar": {
              "outlinewidth": 0,
              "ticks": ""
             }
            },
            "type": "scatter3d"
           }
          ],
          "scattercarpet": [
           {
            "marker": {
             "colorbar": {
              "outlinewidth": 0,
              "ticks": ""
             }
            },
            "type": "scattercarpet"
           }
          ],
          "scattergeo": [
           {
            "marker": {
             "colorbar": {
              "outlinewidth": 0,
              "ticks": ""
             }
            },
            "type": "scattergeo"
           }
          ],
          "scattergl": [
           {
            "marker": {
             "colorbar": {
              "outlinewidth": 0,
              "ticks": ""
             }
            },
            "type": "scattergl"
           }
          ],
          "scattermapbox": [
           {
            "marker": {
             "colorbar": {
              "outlinewidth": 0,
              "ticks": ""
             }
            },
            "type": "scattermapbox"
           }
          ],
          "scatterpolar": [
           {
            "marker": {
             "colorbar": {
              "outlinewidth": 0,
              "ticks": ""
             }
            },
            "type": "scatterpolar"
           }
          ],
          "scatterpolargl": [
           {
            "marker": {
             "colorbar": {
              "outlinewidth": 0,
              "ticks": ""
             }
            },
            "type": "scatterpolargl"
           }
          ],
          "scatterternary": [
           {
            "marker": {
             "colorbar": {
              "outlinewidth": 0,
              "ticks": ""
             }
            },
            "type": "scatterternary"
           }
          ],
          "surface": [
           {
            "colorbar": {
             "outlinewidth": 0,
             "ticks": ""
            },
            "colorscale": [
             [
              0,
              "#0d0887"
             ],
             [
              0.1111111111111111,
              "#46039f"
             ],
             [
              0.2222222222222222,
              "#7201a8"
             ],
             [
              0.3333333333333333,
              "#9c179e"
             ],
             [
              0.4444444444444444,
              "#bd3786"
             ],
             [
              0.5555555555555556,
              "#d8576b"
             ],
             [
              0.6666666666666666,
              "#ed7953"
             ],
             [
              0.7777777777777778,
              "#fb9f3a"
             ],
             [
              0.8888888888888888,
              "#fdca26"
             ],
             [
              1,
              "#f0f921"
             ]
            ],
            "type": "surface"
           }
          ],
          "table": [
           {
            "cells": {
             "fill": {
              "color": "#EBF0F8"
             },
             "line": {
              "color": "white"
             }
            },
            "header": {
             "fill": {
              "color": "#C8D4E3"
             },
             "line": {
              "color": "white"
             }
            },
            "type": "table"
           }
          ]
         },
         "layout": {
          "annotationdefaults": {
           "arrowcolor": "#2a3f5f",
           "arrowhead": 0,
           "arrowwidth": 1
          },
          "autotypenumbers": "strict",
          "coloraxis": {
           "colorbar": {
            "outlinewidth": 0,
            "ticks": ""
           }
          },
          "colorscale": {
           "diverging": [
            [
             0,
             "#8e0152"
            ],
            [
             0.1,
             "#c51b7d"
            ],
            [
             0.2,
             "#de77ae"
            ],
            [
             0.3,
             "#f1b6da"
            ],
            [
             0.4,
             "#fde0ef"
            ],
            [
             0.5,
             "#f7f7f7"
            ],
            [
             0.6,
             "#e6f5d0"
            ],
            [
             0.7,
             "#b8e186"
            ],
            [
             0.8,
             "#7fbc41"
            ],
            [
             0.9,
             "#4d9221"
            ],
            [
             1,
             "#276419"
            ]
           ],
           "sequential": [
            [
             0,
             "#0d0887"
            ],
            [
             0.1111111111111111,
             "#46039f"
            ],
            [
             0.2222222222222222,
             "#7201a8"
            ],
            [
             0.3333333333333333,
             "#9c179e"
            ],
            [
             0.4444444444444444,
             "#bd3786"
            ],
            [
             0.5555555555555556,
             "#d8576b"
            ],
            [
             0.6666666666666666,
             "#ed7953"
            ],
            [
             0.7777777777777778,
             "#fb9f3a"
            ],
            [
             0.8888888888888888,
             "#fdca26"
            ],
            [
             1,
             "#f0f921"
            ]
           ],
           "sequentialminus": [
            [
             0,
             "#0d0887"
            ],
            [
             0.1111111111111111,
             "#46039f"
            ],
            [
             0.2222222222222222,
             "#7201a8"
            ],
            [
             0.3333333333333333,
             "#9c179e"
            ],
            [
             0.4444444444444444,
             "#bd3786"
            ],
            [
             0.5555555555555556,
             "#d8576b"
            ],
            [
             0.6666666666666666,
             "#ed7953"
            ],
            [
             0.7777777777777778,
             "#fb9f3a"
            ],
            [
             0.8888888888888888,
             "#fdca26"
            ],
            [
             1,
             "#f0f921"
            ]
           ]
          },
          "colorway": [
           "#636efa",
           "#EF553B",
           "#00cc96",
           "#ab63fa",
           "#FFA15A",
           "#19d3f3",
           "#FF6692",
           "#B6E880",
           "#FF97FF",
           "#FECB52"
          ],
          "font": {
           "color": "#2a3f5f"
          },
          "geo": {
           "bgcolor": "white",
           "lakecolor": "white",
           "landcolor": "#E5ECF6",
           "showlakes": true,
           "showland": true,
           "subunitcolor": "white"
          },
          "hoverlabel": {
           "align": "left"
          },
          "hovermode": "closest",
          "mapbox": {
           "style": "light"
          },
          "paper_bgcolor": "white",
          "plot_bgcolor": "#E5ECF6",
          "polar": {
           "angularaxis": {
            "gridcolor": "white",
            "linecolor": "white",
            "ticks": ""
           },
           "bgcolor": "#E5ECF6",
           "radialaxis": {
            "gridcolor": "white",
            "linecolor": "white",
            "ticks": ""
           }
          },
          "scene": {
           "xaxis": {
            "backgroundcolor": "#E5ECF6",
            "gridcolor": "white",
            "gridwidth": 2,
            "linecolor": "white",
            "showbackground": true,
            "ticks": "",
            "zerolinecolor": "white"
           },
           "yaxis": {
            "backgroundcolor": "#E5ECF6",
            "gridcolor": "white",
            "gridwidth": 2,
            "linecolor": "white",
            "showbackground": true,
            "ticks": "",
            "zerolinecolor": "white"
           },
           "zaxis": {
            "backgroundcolor": "#E5ECF6",
            "gridcolor": "white",
            "gridwidth": 2,
            "linecolor": "white",
            "showbackground": true,
            "ticks": "",
            "zerolinecolor": "white"
           }
          },
          "shapedefaults": {
           "line": {
            "color": "#2a3f5f"
           }
          },
          "ternary": {
           "aaxis": {
            "gridcolor": "white",
            "linecolor": "white",
            "ticks": ""
           },
           "baxis": {
            "gridcolor": "white",
            "linecolor": "white",
            "ticks": ""
           },
           "bgcolor": "#E5ECF6",
           "caxis": {
            "gridcolor": "white",
            "linecolor": "white",
            "ticks": ""
           }
          },
          "title": {
           "x": 0.05
          },
          "xaxis": {
           "automargin": true,
           "gridcolor": "white",
           "linecolor": "white",
           "ticks": "",
           "title": {
            "standoff": 15
           },
           "zerolinecolor": "white",
           "zerolinewidth": 2
          },
          "yaxis": {
           "automargin": true,
           "gridcolor": "white",
           "linecolor": "white",
           "ticks": "",
           "title": {
            "standoff": 15
           },
           "zerolinecolor": "white",
           "zerolinewidth": 2
          }
         }
        },
        "xaxis": {
         "anchor": "y",
         "domain": [
          0,
          1
         ],
         "title": {
          "text": "Wikipedia Frequency"
         }
        },
        "yaxis": {
         "anchor": "x",
         "domain": [
          0,
          1
         ],
         "title": {
          "text": "mean P@1"
         }
        }
       }
      },
      "text/html": [
       "<div>                            <div id=\"6a1e1818-a4ae-47dd-9e89-40857fb9c2cf\" class=\"plotly-graph-div\" style=\"height:525px; width:100%;\"></div>            <script type=\"text/javascript\">                require([\"plotly\"], function(Plotly) {                    window.PLOTLYENV=window.PLOTLYENV || {};                                    if (document.getElementById(\"6a1e1818-a4ae-47dd-9e89-40857fb9c2cf\")) {                    Plotly.newPlot(                        \"6a1e1818-a4ae-47dd-9e89-40857fb9c2cf\",                        [{\"hovertemplate\":\"Wikipedia Frequency=%{x}<br>mean P@1=%{y}<extra></extra>\",\"legendgroup\":\"\",\"marker\":{\"color\":\"#636efa\",\"symbol\":\"circle\"},\"mode\":\"markers\",\"name\":\"\",\"orientation\":\"v\",\"showlegend\":false,\"x\":[11,161,19703,25,33,7,1224,383,5578,2921,11,161,19703,25,33,7,1224,383,5578,2921,11,161,19703,25,33,7,1224,383,5578,2921,11,161,19703,25,33,7,1224,383,5578,2921,11,161,19703,25,33,7,1224,383,5578,2921,11,161,19703,25,33,7,1224,383,5578,2921,11,161,19703,25,33,7,1224,383,5578,2921,11,161,19703,25,33,7,1224,383,5578,2921,11,161,19703,25,33,7,1224,383,5578,2921,11,161,19703,25,33,7,1224,383,5578,2921,11,161,19703,25,33,7,1224,383,5578,2921,11,161,19703,25,33,7,1224,383,5578,2921,458,160,4257,846,241962,500,353857,2248,3,75317,42849,2218,6992,3923,696,39,83038,726,512,878,2905,853,1472,3135,21,7870,287778,201826,1818,338731,576,32262,151194,143,18986,5765,58648,274,2359,502,3,15928,198,1507,3765,271222,183,248,6,45764,576,32262,151194,143,18986,5765,58648,274,2359,502,3,15928,198,1507,3765,271222,183,248,6,45764,291,119,6539,8868,1860,109,14,345,210870,81,291,119,6539,8868,1860,109,14,345,210870,81],\"xaxis\":\"x\",\"y\":[0.1155,0.9988,0.68,0.2488,0.9966,0.9233,0.2444,0.9966,0.9488,0.0011,0.746,0.998,0.997,0.774,0.479,0.174,0.999,1.0,0.983,0.002,0.995,1.0,0.901,0.053,0.999,0.082,0.999,0.71,0.433,0.0,0.46,0.5355,0.1566,0.0222,0.97,0.0033,0.2266,0.9022,0.0488,0.1244,0.463,0.013,0.33,0.081,0.028,0.116,0.43,0.414,0.502,0.364,0.46,0.18,0.147,0.509,0.861,0.063,0.277,0.177,0.023,0.054,0.8455,0.9388,0.4155,0.8,0.9966,0.1422,0.0344,0.6644,0.15,0.0222,1.0,0.999,0.943,0.054,0.999,0.001,0.957,0.917,0.904,0.264,0.904,0.958,0.975,0.014,0.175,0.005,0.99,0.858,0.016,0.042,0.8077,0.1755,0.0522,0.1277,0.5411,0.8277,0.1111,0.3744,0.7455,0.0988,0.6522,0.9988,0.99,0.6166,0.1288,0.0466,0.9944,1.0,0.5688,0.1355,0.6555,1.0,0.1588,0.1355,0.0644,0.0144,1.0,0.5811,0.0111,0.0177,0.4088,0.0022,0.1666,0.05,0.2677,0.32,0.0133,0.9755,0.2322,0.6277,0.0055,0.0355,0.0166,0.01,0.3288,0.2255,0.0111,0.2033,0.3033,0.1144,0.1222,0.1255,0.3966,0.0733,0.0388,0.1666,0.3877,0.37,0.4166,0.56,0.0322,0.0077,0.0611,0.89,0.9566,0.6866,0.0433,0.0177,0.1088,0.8488,0.0488,0.0055,0.07,0.0022,0.5377,0.0022,0.9922,0.7288,0.4222,0.0,0.05,0.1355,0.0522,0.0911,0.6466,0.0122,0.0211,0.0611,0.0344,0.4266,0.3766,0.0311,0.2311,0.0077,0.5455,0.0166,0.4955,0.3522,0.0066,0.1566,1.0,0.9488,0.6955,0.9988,1.0,0.33,0.06,0.0033,0.9988,1.0,0.988,0.4911,0.12,1.0,1.0,0.0733,0.0722,0.022,1.0,1.0],\"yaxis\":\"y\",\"type\":\"scatter\"}],                        {\"template\":{\"data\":{\"histogram2dcontour\":[{\"type\":\"histogram2dcontour\",\"colorbar\":{\"outlinewidth\":0,\"ticks\":\"\"},\"colorscale\":[[0.0,\"#0d0887\"],[0.1111111111111111,\"#46039f\"],[0.2222222222222222,\"#7201a8\"],[0.3333333333333333,\"#9c179e\"],[0.4444444444444444,\"#bd3786\"],[0.5555555555555556,\"#d8576b\"],[0.6666666666666666,\"#ed7953\"],[0.7777777777777778,\"#fb9f3a\"],[0.8888888888888888,\"#fdca26\"],[1.0,\"#f0f921\"]]}],\"choropleth\":[{\"type\":\"choropleth\",\"colorbar\":{\"outlinewidth\":0,\"ticks\":\"\"}}],\"histogram2d\":[{\"type\":\"histogram2d\",\"colorbar\":{\"outlinewidth\":0,\"ticks\":\"\"},\"colorscale\":[[0.0,\"#0d0887\"],[0.1111111111111111,\"#46039f\"],[0.2222222222222222,\"#7201a8\"],[0.3333333333333333,\"#9c179e\"],[0.4444444444444444,\"#bd3786\"],[0.5555555555555556,\"#d8576b\"],[0.6666666666666666,\"#ed7953\"],[0.7777777777777778,\"#fb9f3a\"],[0.8888888888888888,\"#fdca26\"],[1.0,\"#f0f921\"]]}],\"heatmap\":[{\"type\":\"heatmap\",\"colorbar\":{\"outlinewidth\":0,\"ticks\":\"\"},\"colorscale\":[[0.0,\"#0d0887\"],[0.1111111111111111,\"#46039f\"],[0.2222222222222222,\"#7201a8\"],[0.3333333333333333,\"#9c179e\"],[0.4444444444444444,\"#bd3786\"],[0.5555555555555556,\"#d8576b\"],[0.6666666666666666,\"#ed7953\"],[0.7777777777777778,\"#fb9f3a\"],[0.8888888888888888,\"#fdca26\"],[1.0,\"#f0f921\"]]}],\"heatmapgl\":[{\"type\":\"heatmapgl\",\"colorbar\":{\"outlinewidth\":0,\"ticks\":\"\"},\"colorscale\":[[0.0,\"#0d0887\"],[0.1111111111111111,\"#46039f\"],[0.2222222222222222,\"#7201a8\"],[0.3333333333333333,\"#9c179e\"],[0.4444444444444444,\"#bd3786\"],[0.5555555555555556,\"#d8576b\"],[0.6666666666666666,\"#ed7953\"],[0.7777777777777778,\"#fb9f3a\"],[0.8888888888888888,\"#fdca26\"],[1.0,\"#f0f921\"]]}],\"contourcarpet\":[{\"type\":\"contourcarpet\",\"colorbar\":{\"outlinewidth\":0,\"ticks\":\"\"}}],\"contour\":[{\"type\":\"contour\",\"colorbar\":{\"outlinewidth\":0,\"ticks\":\"\"},\"colorscale\":[[0.0,\"#0d0887\"],[0.1111111111111111,\"#46039f\"],[0.2222222222222222,\"#7201a8\"],[0.3333333333333333,\"#9c179e\"],[0.4444444444444444,\"#bd3786\"],[0.5555555555555556,\"#d8576b\"],[0.6666666666666666,\"#ed7953\"],[0.7777777777777778,\"#fb9f3a\"],[0.8888888888888888,\"#fdca26\"],[1.0,\"#f0f921\"]]}],\"surface\":[{\"type\":\"surface\",\"colorbar\":{\"outlinewidth\":0,\"ticks\":\"\"},\"colorscale\":[[0.0,\"#0d0887\"],[0.1111111111111111,\"#46039f\"],[0.2222222222222222,\"#7201a8\"],[0.3333333333333333,\"#9c179e\"],[0.4444444444444444,\"#bd3786\"],[0.5555555555555556,\"#d8576b\"],[0.6666666666666666,\"#ed7953\"],[0.7777777777777778,\"#fb9f3a\"],[0.8888888888888888,\"#fdca26\"],[1.0,\"#f0f921\"]]}],\"mesh3d\":[{\"type\":\"mesh3d\",\"colorbar\":{\"outlinewidth\":0,\"ticks\":\"\"}}],\"scatter\":[{\"fillpattern\":{\"fillmode\":\"overlay\",\"size\":10,\"solidity\":0.2},\"type\":\"scatter\"}],\"parcoords\":[{\"type\":\"parcoords\",\"line\":{\"colorbar\":{\"outlinewidth\":0,\"ticks\":\"\"}}}],\"scatterpolargl\":[{\"type\":\"scatterpolargl\",\"marker\":{\"colorbar\":{\"outlinewidth\":0,\"ticks\":\"\"}}}],\"bar\":[{\"error_x\":{\"color\":\"#2a3f5f\"},\"error_y\":{\"color\":\"#2a3f5f\"},\"marker\":{\"line\":{\"color\":\"#E5ECF6\",\"width\":0.5},\"pattern\":{\"fillmode\":\"overlay\",\"size\":10,\"solidity\":0.2}},\"type\":\"bar\"}],\"scattergeo\":[{\"type\":\"scattergeo\",\"marker\":{\"colorbar\":{\"outlinewidth\":0,\"ticks\":\"\"}}}],\"scatterpolar\":[{\"type\":\"scatterpolar\",\"marker\":{\"colorbar\":{\"outlinewidth\":0,\"ticks\":\"\"}}}],\"histogram\":[{\"marker\":{\"pattern\":{\"fillmode\":\"overlay\",\"size\":10,\"solidity\":0.2}},\"type\":\"histogram\"}],\"scattergl\":[{\"type\":\"scattergl\",\"marker\":{\"colorbar\":{\"outlinewidth\":0,\"ticks\":\"\"}}}],\"scatter3d\":[{\"type\":\"scatter3d\",\"line\":{\"colorbar\":{\"outlinewidth\":0,\"ticks\":\"\"}},\"marker\":{\"colorbar\":{\"outlinewidth\":0,\"ticks\":\"\"}}}],\"scattermapbox\":[{\"type\":\"scattermapbox\",\"marker\":{\"colorbar\":{\"outlinewidth\":0,\"ticks\":\"\"}}}],\"scatterternary\":[{\"type\":\"scatterternary\",\"marker\":{\"colorbar\":{\"outlinewidth\":0,\"ticks\":\"\"}}}],\"scattercarpet\":[{\"type\":\"scattercarpet\",\"marker\":{\"colorbar\":{\"outlinewidth\":0,\"ticks\":\"\"}}}],\"carpet\":[{\"aaxis\":{\"endlinecolor\":\"#2a3f5f\",\"gridcolor\":\"white\",\"linecolor\":\"white\",\"minorgridcolor\":\"white\",\"startlinecolor\":\"#2a3f5f\"},\"baxis\":{\"endlinecolor\":\"#2a3f5f\",\"gridcolor\":\"white\",\"linecolor\":\"white\",\"minorgridcolor\":\"white\",\"startlinecolor\":\"#2a3f5f\"},\"type\":\"carpet\"}],\"table\":[{\"cells\":{\"fill\":{\"color\":\"#EBF0F8\"},\"line\":{\"color\":\"white\"}},\"header\":{\"fill\":{\"color\":\"#C8D4E3\"},\"line\":{\"color\":\"white\"}},\"type\":\"table\"}],\"barpolar\":[{\"marker\":{\"line\":{\"color\":\"#E5ECF6\",\"width\":0.5},\"pattern\":{\"fillmode\":\"overlay\",\"size\":10,\"solidity\":0.2}},\"type\":\"barpolar\"}],\"pie\":[{\"automargin\":true,\"type\":\"pie\"}]},\"layout\":{\"autotypenumbers\":\"strict\",\"colorway\":[\"#636efa\",\"#EF553B\",\"#00cc96\",\"#ab63fa\",\"#FFA15A\",\"#19d3f3\",\"#FF6692\",\"#B6E880\",\"#FF97FF\",\"#FECB52\"],\"font\":{\"color\":\"#2a3f5f\"},\"hovermode\":\"closest\",\"hoverlabel\":{\"align\":\"left\"},\"paper_bgcolor\":\"white\",\"plot_bgcolor\":\"#E5ECF6\",\"polar\":{\"bgcolor\":\"#E5ECF6\",\"angularaxis\":{\"gridcolor\":\"white\",\"linecolor\":\"white\",\"ticks\":\"\"},\"radialaxis\":{\"gridcolor\":\"white\",\"linecolor\":\"white\",\"ticks\":\"\"}},\"ternary\":{\"bgcolor\":\"#E5ECF6\",\"aaxis\":{\"gridcolor\":\"white\",\"linecolor\":\"white\",\"ticks\":\"\"},\"baxis\":{\"gridcolor\":\"white\",\"linecolor\":\"white\",\"ticks\":\"\"},\"caxis\":{\"gridcolor\":\"white\",\"linecolor\":\"white\",\"ticks\":\"\"}},\"coloraxis\":{\"colorbar\":{\"outlinewidth\":0,\"ticks\":\"\"}},\"colorscale\":{\"sequential\":[[0.0,\"#0d0887\"],[0.1111111111111111,\"#46039f\"],[0.2222222222222222,\"#7201a8\"],[0.3333333333333333,\"#9c179e\"],[0.4444444444444444,\"#bd3786\"],[0.5555555555555556,\"#d8576b\"],[0.6666666666666666,\"#ed7953\"],[0.7777777777777778,\"#fb9f3a\"],[0.8888888888888888,\"#fdca26\"],[1.0,\"#f0f921\"]],\"sequentialminus\":[[0.0,\"#0d0887\"],[0.1111111111111111,\"#46039f\"],[0.2222222222222222,\"#7201a8\"],[0.3333333333333333,\"#9c179e\"],[0.4444444444444444,\"#bd3786\"],[0.5555555555555556,\"#d8576b\"],[0.6666666666666666,\"#ed7953\"],[0.7777777777777778,\"#fb9f3a\"],[0.8888888888888888,\"#fdca26\"],[1.0,\"#f0f921\"]],\"diverging\":[[0,\"#8e0152\"],[0.1,\"#c51b7d\"],[0.2,\"#de77ae\"],[0.3,\"#f1b6da\"],[0.4,\"#fde0ef\"],[0.5,\"#f7f7f7\"],[0.6,\"#e6f5d0\"],[0.7,\"#b8e186\"],[0.8,\"#7fbc41\"],[0.9,\"#4d9221\"],[1,\"#276419\"]]},\"xaxis\":{\"gridcolor\":\"white\",\"linecolor\":\"white\",\"ticks\":\"\",\"title\":{\"standoff\":15},\"zerolinecolor\":\"white\",\"automargin\":true,\"zerolinewidth\":2},\"yaxis\":{\"gridcolor\":\"white\",\"linecolor\":\"white\",\"ticks\":\"\",\"title\":{\"standoff\":15},\"zerolinecolor\":\"white\",\"automargin\":true,\"zerolinewidth\":2},\"scene\":{\"xaxis\":{\"backgroundcolor\":\"#E5ECF6\",\"gridcolor\":\"white\",\"linecolor\":\"white\",\"showbackground\":true,\"ticks\":\"\",\"zerolinecolor\":\"white\",\"gridwidth\":2},\"yaxis\":{\"backgroundcolor\":\"#E5ECF6\",\"gridcolor\":\"white\",\"linecolor\":\"white\",\"showbackground\":true,\"ticks\":\"\",\"zerolinecolor\":\"white\",\"gridwidth\":2},\"zaxis\":{\"backgroundcolor\":\"#E5ECF6\",\"gridcolor\":\"white\",\"linecolor\":\"white\",\"showbackground\":true,\"ticks\":\"\",\"zerolinecolor\":\"white\",\"gridwidth\":2}},\"shapedefaults\":{\"line\":{\"color\":\"#2a3f5f\"}},\"annotationdefaults\":{\"arrowcolor\":\"#2a3f5f\",\"arrowhead\":0,\"arrowwidth\":1},\"geo\":{\"bgcolor\":\"white\",\"landcolor\":\"#E5ECF6\",\"subunitcolor\":\"white\",\"showland\":true,\"showlakes\":true,\"lakecolor\":\"white\"},\"title\":{\"x\":0.05},\"mapbox\":{\"style\":\"light\"}}},\"xaxis\":{\"anchor\":\"y\",\"domain\":[0.0,1.0],\"title\":{\"text\":\"Wikipedia Frequency\"}},\"yaxis\":{\"anchor\":\"x\",\"domain\":[0.0,1.0],\"title\":{\"text\":\"mean P@1\"}},\"legend\":{\"tracegroupgap\":0},\"margin\":{\"t\":60},\"font\":{\"size\":14}},                        {\"responsive\": true}                    ).then(function(){\n",
       "                            \n",
       "var gd = document.getElementById('6a1e1818-a4ae-47dd-9e89-40857fb9c2cf');\n",
       "var x = new MutationObserver(function (mutations, observer) {{\n",
       "        var display = window.getComputedStyle(gd).display;\n",
       "        if (!display || display === 'none') {{\n",
       "            console.log([gd, 'removed!']);\n",
       "            Plotly.purge(gd);\n",
       "            observer.disconnect();\n",
       "        }}\n",
       "}});\n",
       "\n",
       "// Listen for the removal of the full notebook cells\n",
       "var notebookContainer = gd.closest('#notebook-container');\n",
       "if (notebookContainer) {{\n",
       "    x.observe(notebookContainer, {childList: true});\n",
       "}}\n",
       "\n",
       "// Listen for the clearing of the current output cell\n",
       "var outputEl = gd.closest('.output');\n",
       "if (outputEl) {{\n",
       "    x.observe(outputEl, {childList: true});\n",
       "}}\n",
       "\n",
       "                        })                };                });            </script>        </div>"
      ]
     },
     "metadata": {},
     "output_type": "display_data"
    }
   ],
   "source": [
    "fig = px.scatter(x=counts, y=accuracy, labels={\n",
    "                     \"x\": \"Wikipedia Frequency\",\n",
    "                     \"y\": \"mean P@1\"\n",
    "                 })\n",
    "\n",
    "fig.update_layout(\n",
    "    font=dict(\n",
    "        size=14,  # Set the font size here\n",
    "    )\n",
    ")\n",
    "\n",
    "fig.show()\n"
   ]
  },
  {
   "cell_type": "code",
   "execution_count": 50,
   "id": "abef9ac6",
   "metadata": {},
   "outputs": [],
   "source": [
    "fig.write_image('figure4.png', width=800, scale=3)"
   ]
  },
  {
   "cell_type": "code",
   "execution_count": 5,
   "id": "8b645f7c",
   "metadata": {},
   "outputs": [
    {
     "data": {
      "text/plain": [
       "(-0.07954326742779012, 0.2511210457664183)"
      ]
     },
     "execution_count": 5,
     "metadata": {},
     "output_type": "execute_result"
    }
   ],
   "source": [
    "# Pearson's r\n",
    "scipy.stats.pearsonr(counts, accuracy)"
   ]
  },
  {
   "cell_type": "code",
   "execution_count": 6,
   "id": "6d0d1524",
   "metadata": {},
   "outputs": [
    {
     "data": {
      "text/plain": [
       "SpearmanrResult(correlation=-0.0928859954409077, pvalue=0.17994886666769552)"
      ]
     },
     "execution_count": 6,
     "metadata": {},
     "output_type": "execute_result"
    }
   ],
   "source": [
    "# Spearman's rho\n",
    "scipy.stats.spearmanr(counts, accuracy)"
   ]
  },
  {
   "cell_type": "markdown",
   "id": "a285d3cc",
   "metadata": {},
   "source": [
    "### Testing"
   ]
  },
  {
   "cell_type": "code",
   "execution_count": 2,
   "id": "1062f1e2",
   "metadata": {},
   "outputs": [],
   "source": [
    "x = np.arange(10, 20)\n",
    "y = np.array([2, 1, 4, 5, 8, 12, 18, 25, 96, 48])"
   ]
  },
  {
   "cell_type": "code",
   "execution_count": 3,
   "id": "eb86f355",
   "metadata": {},
   "outputs": [
    {
     "data": {
      "text/plain": [
       "(0.758640289091187, 0.010964341301680813)"
      ]
     },
     "execution_count": 3,
     "metadata": {},
     "output_type": "execute_result"
    }
   ],
   "source": [
    "scipy.stats.pearsonr(x, y)    # Pearson's r"
   ]
  },
  {
   "cell_type": "code",
   "execution_count": 4,
   "id": "c1a408d5",
   "metadata": {},
   "outputs": [
    {
     "data": {
      "text/plain": [
       "SpearmanrResult(correlation=0.9757575757575757, pvalue=1.4675461874042197e-06)"
      ]
     },
     "execution_count": 4,
     "metadata": {},
     "output_type": "execute_result"
    }
   ],
   "source": [
    "scipy.stats.spearmanr(x, y)   # Spearman's rho"
   ]
  },
  {
   "cell_type": "code",
   "execution_count": null,
   "id": "1c3cb8b2",
   "metadata": {},
   "outputs": [],
   "source": []
  }
 ],
 "metadata": {
  "kernelspec": {
   "display_name": "Python 3 (ipykernel)",
   "language": "python",
   "name": "python3"
  },
  "language_info": {
   "codemirror_mode": {
    "name": "ipython",
    "version": 3
   },
   "file_extension": ".py",
   "mimetype": "text/x-python",
   "name": "python",
   "nbconvert_exporter": "python",
   "pygments_lexer": "ipython3",
   "version": "3.8.12"
  }
 },
 "nbformat": 4,
 "nbformat_minor": 5
}
