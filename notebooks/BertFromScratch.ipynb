{
 "cells": [
  {
   "cell_type": "code",
   "execution_count": 1,
   "id": "1c6664e1",
   "metadata": {},
   "outputs": [],
   "source": [
    "from transformers import BertTokenizer, BertForMaskedLM, BertConfig, BertModel\n",
    "import torch"
   ]
  },
  {
   "cell_type": "code",
   "execution_count": 2,
   "id": "6b20a5f9",
   "metadata": {},
   "outputs": [],
   "source": [
    "tokenizer = BertTokenizer.from_pretrained(\"bert-base-cased\")"
   ]
  },
  {
   "cell_type": "code",
   "execution_count": 3,
   "id": "fcf828c0",
   "metadata": {},
   "outputs": [],
   "source": [
    "config = BertConfig.from_pretrained(\"bert-base-cased\")\n",
    "model = BertForMaskedLM(config)"
   ]
  },
  {
   "cell_type": "code",
   "execution_count": 4,
   "id": "0c34ca29",
   "metadata": {},
   "outputs": [
    {
     "name": "stdout",
     "output_type": "stream",
     "text": [
      "[1684, 16580, 23217, 26773, 2792]\n",
      "\n",
      "'>>> working'\n",
      "\n",
      "'>>> Gap'\n",
      "\n",
      "'>>> outstretched'\n",
      "\n",
      "'>>> Earle'\n",
      "\n",
      "'>>> Alexander'\n"
     ]
    }
   ],
   "source": [
    "encoded_input = tokenizer(\"Captain Verwandte [MASK].\", return_tensors=\"pt\")\n",
    "token_logits = model(**encoded_input).logits\n",
    "\n",
    "mask_token_index = torch.where(encoded_input[\"input_ids\"] == tokenizer.mask_token_id)[1]\n",
    "mask_token_logits = token_logits[0, mask_token_index, :]\n",
    "\n",
    "# Pick the [MASK] candidates with the highest logits\n",
    "top_5_tokens = torch.topk(mask_token_logits, 5, dim=1).indices[0].tolist()\n",
    "print(top_5_tokens)\n",
    "\n",
    "for chunk in top_5_tokens:\n",
    "    print(f\"\\n'>>> {tokenizer.decode([chunk])}'\")"
   ]
  },
  {
   "cell_type": "code",
   "execution_count": 5,
   "id": "19018fbf",
   "metadata": {},
   "outputs": [
    {
     "name": "stdout",
     "output_type": "stream",
     "text": [
      "[17619, 15817, 18654, 19141, 18357]\n",
      "\n",
      "'>>> consortium'\n",
      "\n",
      "'>>> batch'\n",
      "\n",
      "'>>> squinted'\n",
      "\n",
      "'>>> YOU'\n",
      "\n",
      "'>>> ##dled'\n"
     ]
    }
   ],
   "source": [
    "encoded_input = tokenizer(\"Captain brother-in-law [MASK].\", return_tensors=\"pt\")\n",
    "token_logits = model(**encoded_input).logits\n",
    "\n",
    "mask_token_index = torch.where(encoded_input[\"input_ids\"] == tokenizer.mask_token_id)[1]\n",
    "mask_token_logits = token_logits[0, mask_token_index, :]\n",
    "\n",
    "# Pick the [MASK] candidates with the highest logits\n",
    "top_5_tokens = torch.topk(mask_token_logits, 5, dim=1).indices[0].tolist()\n",
    "print(top_5_tokens)\n",
    "\n",
    "for chunk in top_5_tokens:\n",
    "    print(f\"\\n'>>> {tokenizer.decode([chunk])}'\")"
   ]
  },
  {
   "cell_type": "code",
   "execution_count": null,
   "id": "61c003f8",
   "metadata": {},
   "outputs": [],
   "source": []
  }
 ],
 "metadata": {
  "kernelspec": {
   "display_name": "Python 3 (ipykernel)",
   "language": "python",
   "name": "python3"
  },
  "language_info": {
   "codemirror_mode": {
    "name": "ipython",
    "version": 3
   },
   "file_extension": ".py",
   "mimetype": "text/x-python",
   "name": "python",
   "nbconvert_exporter": "python",
   "pygments_lexer": "ipython3",
   "version": "3.8.12"
  }
 },
 "nbformat": 4,
 "nbformat_minor": 5
}
